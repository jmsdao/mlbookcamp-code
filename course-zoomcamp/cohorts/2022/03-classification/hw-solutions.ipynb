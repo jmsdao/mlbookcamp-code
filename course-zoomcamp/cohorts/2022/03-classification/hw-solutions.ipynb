{
 "cells": [
  {
   "cell_type": "code",
   "execution_count": 1,
   "metadata": {},
   "outputs": [],
   "source": [
    "import numpy as np\n",
    "import pandas as pd\n",
    "\n",
    "from sklearn.model_selection import train_test_split\n",
    "from sklearn.feature_selection import mutual_info_classif\n",
    "from sklearn.preprocessing import LabelEncoder, OneHotEncoder\n",
    "from sklearn.compose import ColumnTransformer\n",
    "from sklearn.linear_model import LogisticRegression, Ridge\n",
    "from sklearn.pipeline import Pipeline\n",
    "from sklearn.metrics import mean_squared_error"
   ]
  },
  {
   "cell_type": "code",
   "execution_count": 2,
   "metadata": {},
   "outputs": [],
   "source": [
    "df = pd.read_csv(\"https://raw.githubusercontent.com/alexeygrigorev/datasets/master/housing.csv\")\n",
    "\n",
    "features = [\n",
    "    'latitude', 'longitude', 'housing_median_age', 'total_rooms', 'total_bedrooms',\n",
    "    'population', 'households', 'median_income', 'ocean_proximity'\n",
    "]\n",
    "\n",
    "target = 'median_house_value'\n",
    "\n",
    "df = df[features + [target]]\n",
    "df = df.fillna(0)\n",
    "\n",
    "df['rooms_per_household'] = df['total_rooms'] / df['households']\n",
    "df['bedrooms_per_room'] = df['total_bedrooms'] / df['total_rooms']\n",
    "df['population_per_household'] = df['population'] / df['households']\n",
    "\n",
    "features += ['rooms_per_household', 'bedrooms_per_room', 'population_per_household']"
   ]
  },
  {
   "cell_type": "markdown",
   "metadata": {},
   "source": [
    "### Question 1"
   ]
  },
  {
   "cell_type": "code",
   "execution_count": 3,
   "metadata": {},
   "outputs": [
    {
     "data": {
      "text/plain": [
       "0    <1H OCEAN\n",
       "Name: ocean_proximity, dtype: object"
      ]
     },
     "execution_count": 3,
     "metadata": {},
     "output_type": "execute_result"
    }
   ],
   "source": [
    "df['ocean_proximity'].mode()"
   ]
  },
  {
   "cell_type": "markdown",
   "metadata": {},
   "source": [
    "### Split the data"
   ]
  },
  {
   "cell_type": "code",
   "execution_count": 4,
   "metadata": {},
   "outputs": [],
   "source": [
    "train_val, test = train_test_split(df, test_size=0.2, random_state=42)\n",
    "train, val = train_test_split(train_val, test_size=0.25, random_state=42)\n",
    "\n",
    "# Check train/val/test nrows adds up to original df\n",
    "assert df.shape[0] == (train.shape[0] + val.shape[0] + test.shape[0])\n",
    "\n",
    "# Check train/val/test is 60/20/20\n",
    "assert train.shape[0] == int(df.shape[0] * 0.6)\n",
    "assert val.shape[0] == test.shape[0]\n",
    "\n",
    "# Check train/val/test is disjoint\n",
    "assert len(set(df.index).difference(train.index).difference(val.index).difference(test.index)) == 0\n",
    "\n",
    "X_train, y_train = train[features], train[target].values\n",
    "X_val, y_val = val[features], val[target].values\n",
    "X_test, y_test = test[features], test[target].values"
   ]
  },
  {
   "cell_type": "markdown",
   "metadata": {},
   "source": [
    "### Question 2"
   ]
  },
  {
   "cell_type": "code",
   "execution_count": 5,
   "metadata": {},
   "outputs": [
    {
     "name": "stdout",
     "output_type": "stream",
     "text": [
      "0.9793993527694163\n",
      "0.9315462999468395\n",
      "0.9068406743022618\n",
      "-0.029451679411510792\n"
     ]
    }
   ],
   "source": [
    "corrs = X_train.select_dtypes(np.number).corr()\n",
    "\n",
    "print(corrs.loc['total_bedrooms', 'households'])\n",
    "print(corrs.loc['total_bedrooms', 'total_rooms'])\n",
    "print(corrs.loc['population', 'households'])\n",
    "print(corrs.loc['population_per_household', 'total_rooms'])"
   ]
  },
  {
   "cell_type": "markdown",
   "metadata": {},
   "source": [
    "### Make `median_house_value` binary"
   ]
  },
  {
   "cell_type": "code",
   "execution_count": 6,
   "metadata": {},
   "outputs": [],
   "source": [
    "mean_value = df['median_house_value'].mean()\n",
    "\n",
    "y_train_bin = (y_train > mean_value).astype(np.uint8)\n",
    "y_val_bin = (y_val > mean_value).astype(np.uint8)\n",
    "y_test_bin = (y_test > mean_value).astype(np.uint8)"
   ]
  },
  {
   "cell_type": "markdown",
   "metadata": {},
   "source": [
    "### Question 3"
   ]
  },
  {
   "cell_type": "code",
   "execution_count": 7,
   "metadata": {},
   "outputs": [
    {
     "data": {
      "text/plain": [
       "array([0.10138386])"
      ]
     },
     "execution_count": 7,
     "metadata": {},
     "output_type": "execute_result"
    }
   ],
   "source": [
    "mutual_info_classif(\n",
    "    LabelEncoder().fit_transform(X_train['ocean_proximity']).reshape(-1, 1),\n",
    "    y_train_bin,\n",
    "    discrete_features=True\n",
    ")"
   ]
  },
  {
   "cell_type": "markdown",
   "metadata": {},
   "source": [
    "### Question 4"
   ]
  },
  {
   "cell_type": "code",
   "execution_count": 8,
   "metadata": {},
   "outputs": [],
   "source": [
    "ct = ColumnTransformer([\n",
    "    (\"onehot\", OneHotEncoder(), ['ocean_proximity']),\n",
    "], remainder='passthrough')\n",
    "\n",
    "model = LogisticRegression(solver=\"liblinear\", C=1.0, max_iter=1000, random_state=42)\n",
    "\n",
    "pipe = Pipeline([\n",
    "    (\"onehot\", ct),\n",
    "    (\"model\", model)\n",
    "])"
   ]
  },
  {
   "cell_type": "code",
   "execution_count": 9,
   "metadata": {},
   "outputs": [
    {
     "name": "stdout",
     "output_type": "stream",
     "text": [
      "0.84\n"
     ]
    }
   ],
   "source": [
    "pipe.fit(X_train, y_train_bin)\n",
    "original_accuracy = pipe.score(X_val, y_val_bin)\n",
    "print(round(original_accuracy, 2))"
   ]
  },
  {
   "cell_type": "markdown",
   "metadata": {},
   "source": [
    "### Question 5"
   ]
  },
  {
   "cell_type": "code",
   "execution_count": 10,
   "metadata": {},
   "outputs": [
    {
     "name": "stdout",
     "output_type": "stream",
     "text": [
      "Dropped column: total_rooms\n",
      "\tOriginal accuracy: 0.8352713178294574\n",
      "\tNew accuracy: 0.8374515503875969\n",
      "\tDiff: -0.0021802325581394832\n",
      "\n",
      "Dropped column: total_bedrooms\n",
      "\tOriginal accuracy: 0.8352713178294574\n",
      "\tNew accuracy: 0.8357558139534884\n",
      "\tDiff: -0.0004844961240310086\n",
      "\n",
      "Dropped column: population\n",
      "\tOriginal accuracy: 0.8352713178294574\n",
      "\tNew accuracy: 0.8263081395348837\n",
      "\tDiff: 0.008963178294573715\n",
      "\n",
      "Dropped column: households\n",
      "\tOriginal accuracy: 0.8352713178294574\n",
      "\tNew accuracy: 0.8330910852713178\n",
      "\tDiff: 0.0021802325581395943\n",
      "\n"
     ]
    }
   ],
   "source": [
    "cols_to_drop = ['total_rooms', 'total_bedrooms', 'population', 'households']\n",
    "\n",
    "for col in cols_to_drop:\n",
    "    pipe.fit(X_train.drop(columns=[col]), y_train_bin)\n",
    "    new_accuracy = pipe.score(X_val, y_val_bin)\n",
    "    diff = original_accuracy - new_accuracy\n",
    "    print(f'Dropped column: {col}')\n",
    "    print(f'\\tOriginal accuracy: {original_accuracy}')\n",
    "    print(f'\\tNew accuracy: {new_accuracy}')\n",
    "    print(f'\\tDiff: {diff}\\n')\n"
   ]
  },
  {
   "cell_type": "markdown",
   "metadata": {},
   "source": [
    "### Question 6"
   ]
  },
  {
   "cell_type": "code",
   "execution_count": 11,
   "metadata": {},
   "outputs": [],
   "source": [
    "def calc_rmse(y_pred, y_true):\n",
    "    error = y_pred - y_true\n",
    "    mse = (error ** 2).mean()\n",
    "    return np.sqrt(mse)\n",
    "\n",
    "Xp_train = ct.fit_transform(X_train)\n"
   ]
  },
  {
   "cell_type": "code",
   "execution_count": 23,
   "metadata": {},
   "outputs": [
    {
     "name": "stdout",
     "output_type": "stream",
     "text": [
      "a=0, RMSE=0.524\n",
      "a=0.01, RMSE=0.524\n",
      "a=0.1, RMSE=0.524\n",
      "a=1, RMSE=0.524\n",
      "a=10, RMSE=0.524\n"
     ]
    }
   ],
   "source": [
    "for a in [0, 0.01, 0.1, 1, 10]:\n",
    "    reg = Ridge(alpha=a, solver=\"sag\", random_state=42)\n",
    "    reg.fit(Xp_train, np.log(y_train))\n",
    "\n",
    "    preds = reg.predict(ct.transform(X_val))\n",
    "    rmse = mean_squared_error(preds, np.log(y_val), squared=False)\n",
    "    print(f'a={a}, RMSE={rmse :.3f}')"
   ]
  },
  {
   "cell_type": "code",
   "execution_count": null,
   "metadata": {},
   "outputs": [],
   "source": []
  }
 ],
 "metadata": {
  "kernelspec": {
   "display_name": "Python 3.10.5 ('ds')",
   "language": "python",
   "name": "python3"
  },
  "language_info": {
   "codemirror_mode": {
    "name": "ipython",
    "version": 3
   },
   "file_extension": ".py",
   "mimetype": "text/x-python",
   "name": "python",
   "nbconvert_exporter": "python",
   "pygments_lexer": "ipython3",
   "version": "3.10.5"
  },
  "orig_nbformat": 4,
  "vscode": {
   "interpreter": {
    "hash": "f9b08f45d2eae98946bffe521c7fede26659a67d709aca44e9fbe0100a218481"
   }
  }
 },
 "nbformat": 4,
 "nbformat_minor": 2
}
