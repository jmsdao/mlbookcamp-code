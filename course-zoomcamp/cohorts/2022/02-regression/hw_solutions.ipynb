{
 "cells": [
  {
   "cell_type": "code",
   "execution_count": 1,
   "metadata": {},
   "outputs": [],
   "source": [
    "import numpy as np\n",
    "import pandas as pd"
   ]
  },
  {
   "cell_type": "code",
   "execution_count": 2,
   "metadata": {},
   "outputs": [],
   "source": [
    "features = [\n",
    "    'latitude', 'longitude', 'housing_median_age', 'total_rooms',\n",
    "    'total_bedrooms', 'population', 'households', 'median_income'\n",
    "]\n",
    "target = 'median_house_value'\n",
    "\n",
    "df = pd.read_csv(\"housing.csv\")"
   ]
  },
  {
   "cell_type": "markdown",
   "metadata": {},
   "source": [
    "### Question 1"
   ]
  },
  {
   "cell_type": "code",
   "execution_count": 3,
   "metadata": {},
   "outputs": [
    {
     "data": {
      "text/plain": [
       "total_bedrooms    207\n",
       "dtype: int64"
      ]
     },
     "execution_count": 3,
     "metadata": {},
     "output_type": "execute_result"
    }
   ],
   "source": [
    "df.isna().sum()[df.isna().sum() > 0]"
   ]
  },
  {
   "cell_type": "markdown",
   "metadata": {},
   "source": [
    "### Question 2"
   ]
  },
  {
   "cell_type": "code",
   "execution_count": 4,
   "metadata": {},
   "outputs": [
    {
     "data": {
      "text/plain": [
       "1166.0"
      ]
     },
     "execution_count": 4,
     "metadata": {},
     "output_type": "execute_result"
    }
   ],
   "source": [
    "df.population.median()"
   ]
  },
  {
   "cell_type": "markdown",
   "metadata": {},
   "source": [
    "### Question 3"
   ]
  },
  {
   "cell_type": "code",
   "execution_count": 5,
   "metadata": {},
   "outputs": [],
   "source": [
    "def get_data_split(seed=42):\n",
    "    np.random.seed(seed)\n",
    "    shuffled_index = df.sample(frac=1).index\n",
    "\n",
    "    nrows = df.shape[0]\n",
    "    train_indices = shuffled_index[:int(nrows * 0.6)]\n",
    "    val_indices = shuffled_index[int(nrows * 0.6): int(nrows * 0.8)]\n",
    "    test_indices = shuffled_index[int(nrows * 0.8):]\n",
    "\n",
    "    assert len(train_indices) + len(val_indices) + len(test_indices) == nrows\n",
    "    assert len(set(train_indices).intersection(set(val_indices))) == 0\n",
    "    assert len(set(train_indices).intersection(set(test_indices))) == 0\n",
    "    assert len(set(val_indices).intersection(set(test_indices))) == 0\n",
    "\n",
    "    X_train = df.loc[train_indices, features]\n",
    "    y_train = np.log1p(df.loc[train_indices, target].values)\n",
    "\n",
    "    X_val = df.loc[val_indices, features]\n",
    "    y_val = np.log1p(df.loc[val_indices, target].values)\n",
    "\n",
    "    X_test = df.loc[test_indices, features]\n",
    "    y_test = np.log1p(df.loc[test_indices, target].values)\n",
    "\n",
    "    return X_train, y_train, X_val, y_val, X_test, y_test\n",
    "\n",
    "def train_linear_regression(X, y):\n",
    "    ones = np.ones(X.shape[0])\n",
    "    X = np.column_stack([ones, X])\n",
    "\n",
    "    XTX = X.T.dot(X)\n",
    "    XTX_inv = np.linalg.inv(XTX)\n",
    "    w = XTX_inv.dot(X.T).dot(y)\n",
    "    \n",
    "    return w[0], w[1:]\n",
    "\n",
    "def rmse(y, y_pred):\n",
    "    error = y_pred - y\n",
    "    mse = (error ** 2).mean()\n",
    "    return np.sqrt(mse)"
   ]
  },
  {
   "cell_type": "code",
   "execution_count": 6,
   "metadata": {},
   "outputs": [],
   "source": [
    "X_train, y_train, X_val, y_val, X_test, y_test = get_data_split()"
   ]
  },
  {
   "cell_type": "code",
   "execution_count": 7,
   "metadata": {},
   "outputs": [
    {
     "data": {
      "text/plain": [
       "0.33"
      ]
     },
     "execution_count": 7,
     "metadata": {},
     "output_type": "execute_result"
    }
   ],
   "source": [
    "fill_fnc = lambda x: x.fillna(0)\n",
    "w_0, w = train_linear_regression(X_train.apply(fill_fnc), y_train)\n",
    "\n",
    "y_pred = w_0 + X_val.apply(fill_fnc).dot(w)\n",
    "round(rmse(y_val, y_pred), 2)"
   ]
  },
  {
   "cell_type": "code",
   "execution_count": 8,
   "metadata": {},
   "outputs": [
    {
     "data": {
      "text/plain": [
       "0.33"
      ]
     },
     "execution_count": 8,
     "metadata": {},
     "output_type": "execute_result"
    }
   ],
   "source": [
    "fill_fnc = lambda x: x.fillna(x.mean())\n",
    "w_0, w = train_linear_regression(X_train.apply(fill_fnc), y_train)\n",
    "\n",
    "y_pred = w_0 + X_val.apply(fill_fnc).dot(w)\n",
    "round(rmse(y_val, y_pred), 2)"
   ]
  },
  {
   "cell_type": "code",
   "execution_count": 9,
   "metadata": {},
   "outputs": [
    {
     "data": {
      "text/plain": [
       "0.33"
      ]
     },
     "execution_count": 9,
     "metadata": {},
     "output_type": "execute_result"
    }
   ],
   "source": [
    "fill_fnc = lambda x: x.fillna(x.median())\n",
    "w_0, w = train_linear_regression(X_train.apply(fill_fnc), y_train)\n",
    "\n",
    "y_pred = w_0 + X_val.apply(fill_fnc).dot(w)\n",
    "round(rmse(y_val, y_pred), 2)"
   ]
  },
  {
   "cell_type": "markdown",
   "metadata": {},
   "source": [
    "### Question 4"
   ]
  },
  {
   "cell_type": "code",
   "execution_count": 10,
   "metadata": {},
   "outputs": [],
   "source": [
    "def train_linear_regression_reg(X, y, r=0.0):\n",
    "    ones = np.ones(X.shape[0])\n",
    "    X = np.column_stack([ones, X])\n",
    "\n",
    "    XTX = X.T.dot(X)\n",
    "    reg = r * np.eye(XTX.shape[0])\n",
    "    XTX = XTX + reg\n",
    "\n",
    "    XTX_inv = np.linalg.inv(XTX)\n",
    "    w = XTX_inv.dot(X.T).dot(y)\n",
    "    \n",
    "    return w[0], w[1:]"
   ]
  },
  {
   "cell_type": "code",
   "execution_count": 11,
   "metadata": {},
   "outputs": [
    {
     "name": "stdout",
     "output_type": "stream",
     "text": [
      "r=0       RSME=0.33\n",
      "r=1e-06   RSME=0.33\n",
      "r=0.0001  RSME=0.33\n",
      "r=0.001   RSME=0.33\n",
      "r=0.01    RSME=0.33\n",
      "r=0.1     RSME=0.33\n",
      "r=1       RSME=0.33\n",
      "r=5       RSME=0.34\n",
      "r=10      RSME=0.34\n"
     ]
    }
   ],
   "source": [
    "for r in [0, 0.000001, 0.0001, 0.001, 0.01, 0.1, 1, 5, 10]:\n",
    "    fill_fnc = lambda x: x.fillna(0)\n",
    "    w_0, w = train_linear_regression_reg(X_train.apply(fill_fnc), y_train, r=r)\n",
    "\n",
    "    y_pred = w_0 + X_val.apply(fill_fnc).dot(w)\n",
    "    score = round(rmse(y_val, y_pred), 2)\n",
    "\n",
    "    print(f'r={r :<6}  RSME={score}')"
   ]
  },
  {
   "cell_type": "markdown",
   "metadata": {},
   "source": [
    "### Question 5"
   ]
  },
  {
   "cell_type": "code",
   "execution_count": 12,
   "metadata": {},
   "outputs": [
    {
     "data": {
      "text/plain": [
       "0.004"
      ]
     },
     "execution_count": 12,
     "metadata": {},
     "output_type": "execute_result"
    }
   ],
   "source": [
    "scores = []\n",
    "for seed in [0, 1, 2, 3, 4, 5, 6, 7, 8, 9]:\n",
    "    X_train, y_train, X_val, y_val, _, _ = get_data_split(seed=seed)\n",
    "\n",
    "    fill_fnc = lambda x: x.fillna(0)\n",
    "    w_0, w = train_linear_regression(X_train.apply(fill_fnc), y_train)\n",
    "\n",
    "    y_pred = w_0 + X_val.apply(fill_fnc).dot(w)\n",
    "    scores.append(rmse(y_val, y_pred))\n",
    "\n",
    "round(np.std(scores), 3)"
   ]
  },
  {
   "cell_type": "markdown",
   "metadata": {},
   "source": [
    "### Question 6"
   ]
  },
  {
   "cell_type": "code",
   "execution_count": 13,
   "metadata": {},
   "outputs": [],
   "source": [
    "X_train, y_train, X_val, y_val, X_test, y_test = get_data_split(seed=9)\n",
    "\n",
    "X_train = pd.concat([X_train, X_val], axis=0)\n",
    "y_train = np.concatenate([y_train, y_val])"
   ]
  },
  {
   "cell_type": "code",
   "execution_count": 14,
   "metadata": {},
   "outputs": [
    {
     "data": {
      "text/plain": [
       "0.345"
      ]
     },
     "execution_count": 14,
     "metadata": {},
     "output_type": "execute_result"
    }
   ],
   "source": [
    "fill_fnc = lambda x: x.fillna(0)\n",
    "w_0, w = train_linear_regression_reg(X_train.apply(fill_fnc), y_train, r=0.001)\n",
    "\n",
    "y_pred = w_0 + X_test.apply(fill_fnc).dot(w)\n",
    "round(rmse(y_test, y_pred), 3)\n"
   ]
  }
 ],
 "metadata": {
  "kernelspec": {
   "display_name": "Python 3.10.5 ('ds')",
   "language": "python",
   "name": "python3"
  },
  "language_info": {
   "codemirror_mode": {
    "name": "ipython",
    "version": 3
   },
   "file_extension": ".py",
   "mimetype": "text/x-python",
   "name": "python",
   "nbconvert_exporter": "python",
   "pygments_lexer": "ipython3",
   "version": "3.10.5"
  },
  "orig_nbformat": 4,
  "vscode": {
   "interpreter": {
    "hash": "f9b08f45d2eae98946bffe521c7fede26659a67d709aca44e9fbe0100a218481"
   }
  }
 },
 "nbformat": 4,
 "nbformat_minor": 2
}
